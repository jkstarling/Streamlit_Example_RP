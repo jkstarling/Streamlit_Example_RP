{
 "cells": [
  {
   "cell_type": "code",
   "execution_count": 53,
   "metadata": {},
   "outputs": [],
   "source": [
    "import pandas as pd\n",
    "import matplotlib.pyplot as plt\n",
    "import plotly.graph_objects as go"
   ]
  },
  {
   "cell_type": "code",
   "execution_count": 54,
   "metadata": {},
   "outputs": [
    {
     "name": "stdout",
     "output_type": "stream",
     "text": [
      "date2  ind_row                                            rowname    2023-01  \\\n",
      "0            1                               OPERATING ACTIVITIES       0.00   \n",
      "1            2                                         Net Income -350565.12   \n",
      "2            3  Adjustments to reconcile Net Income to Net Cas...       0.00   \n",
      "3            4                          Accounts Receivable (A/R)  116468.22   \n",
      "4            5                                       Due From RPP   -9779.92   \n",
      "\n",
      "date2    2023-02    2023-03    2023-04    2023-05    2023-06    2023-07  \\\n",
      "0           0.00       0.00       0.00       0.00       0.00       0.00   \n",
      "1     -185346.17 -602652.03 -303581.01 -314126.59 -412872.90 -483388.42   \n",
      "2           0.00       0.00       0.00       0.00       0.00       0.00   \n",
      "3           0.00  -12500.00   25000.00  -14000.00  -20000.00   20000.00   \n",
      "4      -13119.43  -21140.93  -27556.11   -6525.46  -13246.11  -13116.46   \n",
      "\n",
      "date2    2023-08    2023-09    2023-10    2023-11    2023-12    2024-01  \\\n",
      "0           0.00       0.00       0.00       0.00       0.00       0.00   \n",
      "1     -349042.59 -535800.51 -462400.99 -362564.52 -930013.71 -291041.20   \n",
      "2           0.00       0.00       0.00       0.00       0.00       0.00   \n",
      "3      -22335.71  -25034.23    7500.00    4000.00  -65400.00  -16030.37   \n",
      "4      -17347.25  -22197.44  -15044.33  -16028.89  110000.00       0.00   \n",
      "\n",
      "date2    2024-02    2024-03  \n",
      "0           0.00       0.00  \n",
      "1     -374584.61 -456583.21  \n",
      "2           0.00       0.00  \n",
      "3       19338.55  -85296.74  \n",
      "4           0.00       0.00  \n",
      "date2                                            rowname    2023-01  \\\n",
      "0                                   OPERATING ACTIVITIES       0.00   \n",
      "1                                             Net Income -350565.12   \n",
      "2      Adjustments to reconcile Net Income to Net Cas...       0.00   \n",
      "3                              Accounts Receivable (A/R)  116468.22   \n",
      "4                                           Due From RPP   -9779.92   \n",
      "\n",
      "date2    2023-02    2023-03    2023-04    2023-05    2023-06    2023-07  \\\n",
      "0           0.00       0.00       0.00       0.00       0.00       0.00   \n",
      "1     -185346.17 -602652.03 -303581.01 -314126.59 -412872.90 -483388.42   \n",
      "2           0.00       0.00       0.00       0.00       0.00       0.00   \n",
      "3           0.00  -12500.00   25000.00  -14000.00  -20000.00   20000.00   \n",
      "4      -13119.43  -21140.93  -27556.11   -6525.46  -13246.11  -13116.46   \n",
      "\n",
      "date2    2023-08    2023-09    2023-10    2023-11    2023-12    2024-01  \\\n",
      "0           0.00       0.00       0.00       0.00       0.00       0.00   \n",
      "1     -349042.59 -535800.51 -462400.99 -362564.52 -930013.71 -291041.20   \n",
      "2           0.00       0.00       0.00       0.00       0.00       0.00   \n",
      "3      -22335.71  -25034.23    7500.00    4000.00  -65400.00  -16030.37   \n",
      "4      -17347.25  -22197.44  -15044.33  -16028.89  110000.00       0.00   \n",
      "\n",
      "date2    2024-02    2024-03  \n",
      "0           0.00       0.00  \n",
      "1     -374584.61 -456583.21  \n",
      "2           0.00       0.00  \n",
      "3       19338.55  -85296.74  \n",
      "4           0.00       0.00  \n",
      "      Unnamed: 0       account number       cost       date     rowname  \\\n",
      "5640          18  Remedy Place    0-1 -350565.12 2023-01-31  Net Income   \n",
      "5641          19  Remedy Place    0-2 -185346.17 2023-02-28  Net Income   \n",
      "5642          20  Remedy Place    0-3 -602652.03 2023-03-31  Net Income   \n",
      "5643          21  Remedy Place    0-4 -303581.01 2023-04-30  Net Income   \n",
      "5644          22  Remedy Place    0-5 -314126.59 2023-05-31  Net Income   \n",
      "5645          23  Remedy Place    0-6 -412872.90 2023-06-30  Net Income   \n",
      "5646          24  Remedy Place    0-7 -483388.42 2023-07-31  Net Income   \n",
      "5647          25  Remedy Place    0-8 -349042.59 2023-08-31  Net Income   \n",
      "5648          26  Remedy Place    0-9 -535800.51 2023-09-30  Net Income   \n",
      "5649          27  Remedy Place   0-10 -462400.99 2023-10-31  Net Income   \n",
      "5650          28  Remedy Place   0-11 -362564.52 2023-11-30  Net Income   \n",
      "5651          29  Remedy Place   0-12 -930013.71 2023-12-31  Net Income   \n",
      "5652          30  Remedy Place   0-13 -291041.20 2024-01-31  Net Income   \n",
      "5653          31  Remedy Place   0-14 -374584.61 2024-02-29  Net Income   \n",
      "5654          32  Remedy Place   0-15 -456583.21 2024-03-31  Net Income   \n",
      "\n",
      "      ind_row    report    date2  \n",
      "5640        2  Total CF  2023-01  \n",
      "5641        2  Total CF  2023-02  \n",
      "5642        2  Total CF  2023-03  \n",
      "5643        2  Total CF  2023-04  \n",
      "5644        2  Total CF  2023-05  \n",
      "5645        2  Total CF  2023-06  \n",
      "5646        2  Total CF  2023-07  \n",
      "5647        2  Total CF  2023-08  \n",
      "5648        2  Total CF  2023-09  \n",
      "5649        2  Total CF  2023-10  \n",
      "5650        2  Total CF  2023-11  \n",
      "5651        2  Total CF  2023-12  \n",
      "5652        2  Total CF  2024-01  \n",
      "5653        2  Total CF  2024-02  \n",
      "5654        2  Total CF  2024-03  \n"
     ]
    }
   ],
   "source": [
    "df = pd.read_csv('G:/My Drive/kordis/Streamlit_Example_RP/RP_SL_app/RP_example_data_1-23_3_24.csv')\n",
    "\n",
    "# Convert 'date' column to datetime format\n",
    "df['date'] = pd.to_datetime(df['date'])\n",
    "# Format 'date' as \"MMM-YY\"\n",
    "# df['date'] = df['date'].dt.strftime('%b-%y')\n",
    "df['date2'] = pd.to_datetime(df['date'], format='%b %Y').dt.to_period('M')\n",
    "\n",
    "# df['date2'] = pd.to_datetime(df['date2']).dt.to_timestamp('%b-%y')\n",
    "\n",
    "\n",
    "df_cf = df[df['report'].str.contains(\"Total CF\")]\n",
    "\n",
    "pivot_table = pd.pivot_table(df_cf, \n",
    "                             index=('ind_row', 'rowname'), \n",
    "                             columns='date2', \n",
    "                             values='cost', \n",
    "                             aggfunc='sum', \n",
    "                             fill_value=0).reset_index()\n",
    "\n",
    "# pivot_table = pivot_table.reindex(sorted(pivot_table.columns), axis=1)\n",
    "# pivot_table = pivot_table.reindex(sorted(pivot_table.columns[1:]), axis=1)\n",
    "\n",
    "\n",
    "df_cf_netincome = df_cf[df_cf.rowname=='Net Income']\n",
    "print(pivot_table.head())\n",
    "print(pivot_table.drop('ind_row', axis=1).head())\n",
    "print(df_cf_netincome)"
   ]
  },
  {
   "cell_type": "code",
   "execution_count": 55,
   "metadata": {},
   "outputs": [
    {
     "data": {
      "text/plain": [
       "Index(['ind_row', 'rowname', 'Apr-23', 'Aug-23', 'Dec-23', 'Feb-23', 'Feb-24',\n",
       "       'Jan-23', 'Jan-24', 'Jul-23', 'Jun-23', 'Mar-23', 'Mar-24', 'May-23',\n",
       "       'Nov-23', 'Oct-23', 'Sep-23'],\n",
       "      dtype='object', name='date')"
      ]
     },
     "execution_count": 55,
     "metadata": {},
     "output_type": "execute_result"
    }
   ],
   "source": [
    "net_income_row.columns"
   ]
  },
  {
   "cell_type": "code",
   "execution_count": 57,
   "metadata": {},
   "outputs": [
    {
     "data": {
      "application/vnd.plotly.v1+json": {
       "config": {
        "plotlyServerURL": "https://plot.ly"
       },
       "data": [
        {
         "mode": "lines+markers",
         "name": "Net Income",
         "type": "scatter",
         "x": [
          "2023-01-31T00:00:00",
          "2023-02-28T00:00:00",
          "2023-03-31T00:00:00",
          "2023-04-30T00:00:00",
          "2023-05-31T00:00:00",
          "2023-06-30T00:00:00",
          "2023-07-31T00:00:00",
          "2023-08-31T00:00:00",
          "2023-09-30T00:00:00",
          "2023-10-31T00:00:00",
          "2023-11-30T00:00:00",
          "2023-12-31T00:00:00",
          "2024-01-31T00:00:00",
          "2024-02-29T00:00:00",
          "2024-03-31T00:00:00"
         ],
         "y": [
          -350565.12,
          -185346.17,
          -602652.03,
          -303581.01,
          -314126.59,
          -412872.9,
          -483388.42,
          -349042.59,
          -535800.51,
          -462400.99,
          -362564.52,
          -930013.71,
          -291041.2,
          -374584.61,
          -456583.21
         ]
        }
       ],
       "layout": {
        "showlegend": true,
        "template": {
         "data": {
          "bar": [
           {
            "error_x": {
             "color": "#2a3f5f"
            },
            "error_y": {
             "color": "#2a3f5f"
            },
            "marker": {
             "line": {
              "color": "#E5ECF6",
              "width": 0.5
             },
             "pattern": {
              "fillmode": "overlay",
              "size": 10,
              "solidity": 0.2
             }
            },
            "type": "bar"
           }
          ],
          "barpolar": [
           {
            "marker": {
             "line": {
              "color": "#E5ECF6",
              "width": 0.5
             },
             "pattern": {
              "fillmode": "overlay",
              "size": 10,
              "solidity": 0.2
             }
            },
            "type": "barpolar"
           }
          ],
          "carpet": [
           {
            "aaxis": {
             "endlinecolor": "#2a3f5f",
             "gridcolor": "white",
             "linecolor": "white",
             "minorgridcolor": "white",
             "startlinecolor": "#2a3f5f"
            },
            "baxis": {
             "endlinecolor": "#2a3f5f",
             "gridcolor": "white",
             "linecolor": "white",
             "minorgridcolor": "white",
             "startlinecolor": "#2a3f5f"
            },
            "type": "carpet"
           }
          ],
          "choropleth": [
           {
            "colorbar": {
             "outlinewidth": 0,
             "ticks": ""
            },
            "type": "choropleth"
           }
          ],
          "contour": [
           {
            "colorbar": {
             "outlinewidth": 0,
             "ticks": ""
            },
            "colorscale": [
             [
              0,
              "#0d0887"
             ],
             [
              0.1111111111111111,
              "#46039f"
             ],
             [
              0.2222222222222222,
              "#7201a8"
             ],
             [
              0.3333333333333333,
              "#9c179e"
             ],
             [
              0.4444444444444444,
              "#bd3786"
             ],
             [
              0.5555555555555556,
              "#d8576b"
             ],
             [
              0.6666666666666666,
              "#ed7953"
             ],
             [
              0.7777777777777778,
              "#fb9f3a"
             ],
             [
              0.8888888888888888,
              "#fdca26"
             ],
             [
              1,
              "#f0f921"
             ]
            ],
            "type": "contour"
           }
          ],
          "contourcarpet": [
           {
            "colorbar": {
             "outlinewidth": 0,
             "ticks": ""
            },
            "type": "contourcarpet"
           }
          ],
          "heatmap": [
           {
            "colorbar": {
             "outlinewidth": 0,
             "ticks": ""
            },
            "colorscale": [
             [
              0,
              "#0d0887"
             ],
             [
              0.1111111111111111,
              "#46039f"
             ],
             [
              0.2222222222222222,
              "#7201a8"
             ],
             [
              0.3333333333333333,
              "#9c179e"
             ],
             [
              0.4444444444444444,
              "#bd3786"
             ],
             [
              0.5555555555555556,
              "#d8576b"
             ],
             [
              0.6666666666666666,
              "#ed7953"
             ],
             [
              0.7777777777777778,
              "#fb9f3a"
             ],
             [
              0.8888888888888888,
              "#fdca26"
             ],
             [
              1,
              "#f0f921"
             ]
            ],
            "type": "heatmap"
           }
          ],
          "heatmapgl": [
           {
            "colorbar": {
             "outlinewidth": 0,
             "ticks": ""
            },
            "colorscale": [
             [
              0,
              "#0d0887"
             ],
             [
              0.1111111111111111,
              "#46039f"
             ],
             [
              0.2222222222222222,
              "#7201a8"
             ],
             [
              0.3333333333333333,
              "#9c179e"
             ],
             [
              0.4444444444444444,
              "#bd3786"
             ],
             [
              0.5555555555555556,
              "#d8576b"
             ],
             [
              0.6666666666666666,
              "#ed7953"
             ],
             [
              0.7777777777777778,
              "#fb9f3a"
             ],
             [
              0.8888888888888888,
              "#fdca26"
             ],
             [
              1,
              "#f0f921"
             ]
            ],
            "type": "heatmapgl"
           }
          ],
          "histogram": [
           {
            "marker": {
             "pattern": {
              "fillmode": "overlay",
              "size": 10,
              "solidity": 0.2
             }
            },
            "type": "histogram"
           }
          ],
          "histogram2d": [
           {
            "colorbar": {
             "outlinewidth": 0,
             "ticks": ""
            },
            "colorscale": [
             [
              0,
              "#0d0887"
             ],
             [
              0.1111111111111111,
              "#46039f"
             ],
             [
              0.2222222222222222,
              "#7201a8"
             ],
             [
              0.3333333333333333,
              "#9c179e"
             ],
             [
              0.4444444444444444,
              "#bd3786"
             ],
             [
              0.5555555555555556,
              "#d8576b"
             ],
             [
              0.6666666666666666,
              "#ed7953"
             ],
             [
              0.7777777777777778,
              "#fb9f3a"
             ],
             [
              0.8888888888888888,
              "#fdca26"
             ],
             [
              1,
              "#f0f921"
             ]
            ],
            "type": "histogram2d"
           }
          ],
          "histogram2dcontour": [
           {
            "colorbar": {
             "outlinewidth": 0,
             "ticks": ""
            },
            "colorscale": [
             [
              0,
              "#0d0887"
             ],
             [
              0.1111111111111111,
              "#46039f"
             ],
             [
              0.2222222222222222,
              "#7201a8"
             ],
             [
              0.3333333333333333,
              "#9c179e"
             ],
             [
              0.4444444444444444,
              "#bd3786"
             ],
             [
              0.5555555555555556,
              "#d8576b"
             ],
             [
              0.6666666666666666,
              "#ed7953"
             ],
             [
              0.7777777777777778,
              "#fb9f3a"
             ],
             [
              0.8888888888888888,
              "#fdca26"
             ],
             [
              1,
              "#f0f921"
             ]
            ],
            "type": "histogram2dcontour"
           }
          ],
          "mesh3d": [
           {
            "colorbar": {
             "outlinewidth": 0,
             "ticks": ""
            },
            "type": "mesh3d"
           }
          ],
          "parcoords": [
           {
            "line": {
             "colorbar": {
              "outlinewidth": 0,
              "ticks": ""
             }
            },
            "type": "parcoords"
           }
          ],
          "pie": [
           {
            "automargin": true,
            "type": "pie"
           }
          ],
          "scatter": [
           {
            "fillpattern": {
             "fillmode": "overlay",
             "size": 10,
             "solidity": 0.2
            },
            "type": "scatter"
           }
          ],
          "scatter3d": [
           {
            "line": {
             "colorbar": {
              "outlinewidth": 0,
              "ticks": ""
             }
            },
            "marker": {
             "colorbar": {
              "outlinewidth": 0,
              "ticks": ""
             }
            },
            "type": "scatter3d"
           }
          ],
          "scattercarpet": [
           {
            "marker": {
             "colorbar": {
              "outlinewidth": 0,
              "ticks": ""
             }
            },
            "type": "scattercarpet"
           }
          ],
          "scattergeo": [
           {
            "marker": {
             "colorbar": {
              "outlinewidth": 0,
              "ticks": ""
             }
            },
            "type": "scattergeo"
           }
          ],
          "scattergl": [
           {
            "marker": {
             "colorbar": {
              "outlinewidth": 0,
              "ticks": ""
             }
            },
            "type": "scattergl"
           }
          ],
          "scattermapbox": [
           {
            "marker": {
             "colorbar": {
              "outlinewidth": 0,
              "ticks": ""
             }
            },
            "type": "scattermapbox"
           }
          ],
          "scatterpolar": [
           {
            "marker": {
             "colorbar": {
              "outlinewidth": 0,
              "ticks": ""
             }
            },
            "type": "scatterpolar"
           }
          ],
          "scatterpolargl": [
           {
            "marker": {
             "colorbar": {
              "outlinewidth": 0,
              "ticks": ""
             }
            },
            "type": "scatterpolargl"
           }
          ],
          "scatterternary": [
           {
            "marker": {
             "colorbar": {
              "outlinewidth": 0,
              "ticks": ""
             }
            },
            "type": "scatterternary"
           }
          ],
          "surface": [
           {
            "colorbar": {
             "outlinewidth": 0,
             "ticks": ""
            },
            "colorscale": [
             [
              0,
              "#0d0887"
             ],
             [
              0.1111111111111111,
              "#46039f"
             ],
             [
              0.2222222222222222,
              "#7201a8"
             ],
             [
              0.3333333333333333,
              "#9c179e"
             ],
             [
              0.4444444444444444,
              "#bd3786"
             ],
             [
              0.5555555555555556,
              "#d8576b"
             ],
             [
              0.6666666666666666,
              "#ed7953"
             ],
             [
              0.7777777777777778,
              "#fb9f3a"
             ],
             [
              0.8888888888888888,
              "#fdca26"
             ],
             [
              1,
              "#f0f921"
             ]
            ],
            "type": "surface"
           }
          ],
          "table": [
           {
            "cells": {
             "fill": {
              "color": "#EBF0F8"
             },
             "line": {
              "color": "white"
             }
            },
            "header": {
             "fill": {
              "color": "#C8D4E3"
             },
             "line": {
              "color": "white"
             }
            },
            "type": "table"
           }
          ]
         },
         "layout": {
          "annotationdefaults": {
           "arrowcolor": "#2a3f5f",
           "arrowhead": 0,
           "arrowwidth": 1
          },
          "autotypenumbers": "strict",
          "coloraxis": {
           "colorbar": {
            "outlinewidth": 0,
            "ticks": ""
           }
          },
          "colorscale": {
           "diverging": [
            [
             0,
             "#8e0152"
            ],
            [
             0.1,
             "#c51b7d"
            ],
            [
             0.2,
             "#de77ae"
            ],
            [
             0.3,
             "#f1b6da"
            ],
            [
             0.4,
             "#fde0ef"
            ],
            [
             0.5,
             "#f7f7f7"
            ],
            [
             0.6,
             "#e6f5d0"
            ],
            [
             0.7,
             "#b8e186"
            ],
            [
             0.8,
             "#7fbc41"
            ],
            [
             0.9,
             "#4d9221"
            ],
            [
             1,
             "#276419"
            ]
           ],
           "sequential": [
            [
             0,
             "#0d0887"
            ],
            [
             0.1111111111111111,
             "#46039f"
            ],
            [
             0.2222222222222222,
             "#7201a8"
            ],
            [
             0.3333333333333333,
             "#9c179e"
            ],
            [
             0.4444444444444444,
             "#bd3786"
            ],
            [
             0.5555555555555556,
             "#d8576b"
            ],
            [
             0.6666666666666666,
             "#ed7953"
            ],
            [
             0.7777777777777778,
             "#fb9f3a"
            ],
            [
             0.8888888888888888,
             "#fdca26"
            ],
            [
             1,
             "#f0f921"
            ]
           ],
           "sequentialminus": [
            [
             0,
             "#0d0887"
            ],
            [
             0.1111111111111111,
             "#46039f"
            ],
            [
             0.2222222222222222,
             "#7201a8"
            ],
            [
             0.3333333333333333,
             "#9c179e"
            ],
            [
             0.4444444444444444,
             "#bd3786"
            ],
            [
             0.5555555555555556,
             "#d8576b"
            ],
            [
             0.6666666666666666,
             "#ed7953"
            ],
            [
             0.7777777777777778,
             "#fb9f3a"
            ],
            [
             0.8888888888888888,
             "#fdca26"
            ],
            [
             1,
             "#f0f921"
            ]
           ]
          },
          "colorway": [
           "#636efa",
           "#EF553B",
           "#00cc96",
           "#ab63fa",
           "#FFA15A",
           "#19d3f3",
           "#FF6692",
           "#B6E880",
           "#FF97FF",
           "#FECB52"
          ],
          "font": {
           "color": "#2a3f5f"
          },
          "geo": {
           "bgcolor": "white",
           "lakecolor": "white",
           "landcolor": "#E5ECF6",
           "showlakes": true,
           "showland": true,
           "subunitcolor": "white"
          },
          "hoverlabel": {
           "align": "left"
          },
          "hovermode": "closest",
          "mapbox": {
           "style": "light"
          },
          "paper_bgcolor": "white",
          "plot_bgcolor": "#E5ECF6",
          "polar": {
           "angularaxis": {
            "gridcolor": "white",
            "linecolor": "white",
            "ticks": ""
           },
           "bgcolor": "#E5ECF6",
           "radialaxis": {
            "gridcolor": "white",
            "linecolor": "white",
            "ticks": ""
           }
          },
          "scene": {
           "xaxis": {
            "backgroundcolor": "#E5ECF6",
            "gridcolor": "white",
            "gridwidth": 2,
            "linecolor": "white",
            "showbackground": true,
            "ticks": "",
            "zerolinecolor": "white"
           },
           "yaxis": {
            "backgroundcolor": "#E5ECF6",
            "gridcolor": "white",
            "gridwidth": 2,
            "linecolor": "white",
            "showbackground": true,
            "ticks": "",
            "zerolinecolor": "white"
           },
           "zaxis": {
            "backgroundcolor": "#E5ECF6",
            "gridcolor": "white",
            "gridwidth": 2,
            "linecolor": "white",
            "showbackground": true,
            "ticks": "",
            "zerolinecolor": "white"
           }
          },
          "shapedefaults": {
           "line": {
            "color": "#2a3f5f"
           }
          },
          "ternary": {
           "aaxis": {
            "gridcolor": "white",
            "linecolor": "white",
            "ticks": ""
           },
           "baxis": {
            "gridcolor": "white",
            "linecolor": "white",
            "ticks": ""
           },
           "bgcolor": "#E5ECF6",
           "caxis": {
            "gridcolor": "white",
            "linecolor": "white",
            "ticks": ""
           }
          },
          "title": {
           "x": 0.05
          },
          "xaxis": {
           "automargin": true,
           "gridcolor": "white",
           "linecolor": "white",
           "ticks": "",
           "title": {
            "standoff": 15
           },
           "zerolinecolor": "white",
           "zerolinewidth": 2
          },
          "yaxis": {
           "automargin": true,
           "gridcolor": "white",
           "linecolor": "white",
           "ticks": "",
           "title": {
            "standoff": 15
           },
           "zerolinecolor": "white",
           "zerolinewidth": 2
          }
         }
        },
        "title": {
         "text": "Net Income Over Time"
        },
        "xaxis": {
         "tickangle": -45,
         "title": {
          "text": "Date"
         }
        },
        "yaxis": {
         "title": {
          "text": "Net Income"
         }
        }
       }
      }
     },
     "metadata": {},
     "output_type": "display_data"
    }
   ],
   "source": [
    "fig = go.Figure()\n",
    "fig.add_trace(go.Scatter(x=df_cf_netincome.date, y=df_cf_netincome.cost, mode='lines+markers', name='Net Income'))\n",
    "fig.update_layout(title='Net Income Over Time',\n",
    "                  xaxis_title='Date',\n",
    "                  yaxis_title='Net Income',\n",
    "                  xaxis_tickangle=-45,\n",
    "                  showlegend=True)"
   ]
  }
 ],
 "metadata": {
  "kernelspec": {
   "display_name": "kordis_py",
   "language": "python",
   "name": "python3"
  },
  "language_info": {
   "codemirror_mode": {
    "name": "ipython",
    "version": 3
   },
   "file_extension": ".py",
   "mimetype": "text/x-python",
   "name": "python",
   "nbconvert_exporter": "python",
   "pygments_lexer": "ipython3",
   "version": "3.12.2"
  }
 },
 "nbformat": 4,
 "nbformat_minor": 2
}
